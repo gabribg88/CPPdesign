{
 "cells": [
  {
   "cell_type": "code",
   "execution_count": 1,
   "id": "157ebaf7-03eb-4b6e-b4c9-7cd722c1618e",
   "metadata": {
    "tags": []
   },
   "outputs": [],
   "source": [
    "import os\n",
    "import sys\n",
    "import pickle\n",
    "import pandas as pd\n",
    "sys.path.append('../src/')\n",
    "from utils_training import *\n",
    "from utils_plotting import *\n",
    "from utils_feature_selection import *\n",
    "from utils_optimization import *\n",
    "from configs import *\n",
    "from functools import reduce\n",
    "import itertools\n",
    "from tqdm.notebook import tqdm\n",
    "\n",
    "from matplotlib import rcParams\n",
    "import matplotlib.pyplot as plt\n",
    "import matplotlib.gridspec as gridspec\n",
    "rcParams.update(fig_params)\n",
    "import seaborn as sns\n",
    "\n",
    "import warnings\n",
    "warnings.filterwarnings('ignore')\n",
    "\n",
    "%load_ext autoreload\n",
    "%autoreload 2"
   ]
  },
  {
   "cell_type": "markdown",
   "id": "56232e32-9781-480f-ad46-228547545b9b",
   "metadata": {},
   "source": [
    "## Load data"
   ]
  },
  {
   "cell_type": "code",
   "execution_count": 2,
   "id": "0554cdf5-41bd-43ff-b675-81bfc1e23419",
   "metadata": {
    "tags": []
   },
   "outputs": [],
   "source": [
    "key = ['ID', 'Sequence', 'CPP', 'Dataset']\n",
    "\n",
    "features = ['physicochemical',\n",
    "            'AAC',\n",
    "            'CKSAAP type 1',\n",
    "            'TPC type 1',\n",
    "            'DPC type 1',\n",
    "            'DDE',\n",
    "            'GAAC',\n",
    "            'CKSAAGP type 1',\n",
    "            'GDPC type 1',\n",
    "            'GTPC type 1',\n",
    "            'Moran',\n",
    "            'Geary',\n",
    "            'NMBroto',\n",
    "            'CTDC',\n",
    "            'CTDT',\n",
    "            'CTDD',\n",
    "            'CTriad',\n",
    "            'KSCTriad',\n",
    "            'SOCNumber',\n",
    "            'QSOrder',\n",
    "            'PAAC',\n",
    "            'APAAC',\n",
    "            'ASDC',\n",
    "            'AC',\n",
    "            'CC',\n",
    "            'ACC',\n",
    "            'EAAC',\n",
    "            'EGAAC',\n",
    "            'AAIndex',\n",
    "            'BLOSUM62',\n",
    "            'ZScale'\n",
    "           ]\n",
    "\n",
    "selected_features = ['CTDC_charge.G1',\n",
    "                     'CTDD_hydrophobicity_ARGP820101.1.residue50',\n",
    "                     'SOCNumber_gGrantham.lag1',\n",
    "                     'DDE_LA',\n",
    "                     'Geary_ANDN920101.lag2',\n",
    "                     'DDE_SP',\n",
    "                     'NetC',\n",
    "                     'ASDC_VG',\n",
    "                     'CTDC_solventaccess.G3',\n",
    "                     'APAAC_Pc1.V']"
   ]
  },
  {
   "cell_type": "code",
   "execution_count": 3,
   "id": "cf6e6705-80e2-4437-a5ba-8ee8b475ae9c",
   "metadata": {
    "tags": []
   },
   "outputs": [
    {
     "name": "stdout",
     "output_type": "stream",
     "text": [
      "Features number: 13833\n"
     ]
    }
   ],
   "source": [
    "dfList = []\n",
    "features_dict = {}\n",
    "\n",
    "for feature in features:\n",
    "    tmp = pd.read_pickle(os.path.join('..', 'features', 'comb_' + feature.split(' ')[0] + '.pickle'))\n",
    "    features_dict[feature] = list(set(tmp.columns.tolist()) - set(key))\n",
    "    dfList.append(tmp)\n",
    "    \n",
    "comb = reduce(lambda df1, df2: pd.merge(df1, df2, on=['ID', 'Sequence', 'CPP', 'Dataset']), dfList)\n",
    "\n",
    "train = comb[comb.Dataset=='train'].copy()\n",
    "test  = comb[comb.Dataset=='test'].copy()\n",
    "\n",
    "features = sorted(list(itertools.chain.from_iterable(list(features_dict.values()))))\n",
    "print(f'Features number: {len(features)}')"
   ]
  },
  {
   "cell_type": "code",
   "execution_count": 4,
   "id": "2d3c9300-ba78-4cb8-a057-8803537c8984",
   "metadata": {
    "tags": []
   },
   "outputs": [
    {
     "data": {
      "text/html": [
       "<div>\n",
       "<style scoped>\n",
       "    .dataframe tbody tr th:only-of-type {\n",
       "        vertical-align: middle;\n",
       "    }\n",
       "\n",
       "    .dataframe tbody tr th {\n",
       "        vertical-align: top;\n",
       "    }\n",
       "\n",
       "    .dataframe thead th {\n",
       "        text-align: right;\n",
       "    }\n",
       "</style>\n",
       "<table border=\"1\" class=\"dataframe\">\n",
       "  <thead>\n",
       "    <tr style=\"text-align: right;\">\n",
       "      <th></th>\n",
       "      <th>ID</th>\n",
       "      <th>Sequence</th>\n",
       "      <th>CPP</th>\n",
       "      <th>Dataset</th>\n",
       "      <th>CTDC_charge.G1</th>\n",
       "      <th>CTDD_hydrophobicity_ARGP820101.1.residue50</th>\n",
       "      <th>SOCNumber_gGrantham.lag1</th>\n",
       "      <th>DDE_LA</th>\n",
       "      <th>Geary_ANDN920101.lag2</th>\n",
       "      <th>DDE_SP</th>\n",
       "      <th>NetC</th>\n",
       "      <th>ASDC_VG</th>\n",
       "      <th>CTDC_solventaccess.G3</th>\n",
       "      <th>APAAC_Pc1.V</th>\n",
       "    </tr>\n",
       "  </thead>\n",
       "  <tbody>\n",
       "    <tr>\n",
       "      <th>0</th>\n",
       "      <td>Positive_1</td>\n",
       "      <td>GRKGKHKRKKLP</td>\n",
       "      <td>1</td>\n",
       "      <td>train</td>\n",
       "      <td>0.583333</td>\n",
       "      <td>8.333333</td>\n",
       "      <td>6637.454545</td>\n",
       "      <td>-0.267225</td>\n",
       "      <td>1.207187</td>\n",
       "      <td>-0.267225</td>\n",
       "      <td>7.029472</td>\n",
       "      <td>0.000000</td>\n",
       "      <td>0.166667</td>\n",
       "      <td>0.000000</td>\n",
       "    </tr>\n",
       "    <tr>\n",
       "      <th>1</th>\n",
       "      <td>Positive_2</td>\n",
       "      <td>KFLNRFWHWLQLKPGQPMY</td>\n",
       "      <td>1</td>\n",
       "      <td>train</td>\n",
       "      <td>0.157895</td>\n",
       "      <td>57.894737</td>\n",
       "      <td>8580.166667</td>\n",
       "      <td>-0.341835</td>\n",
       "      <td>0.626096</td>\n",
       "      <td>-0.341835</td>\n",
       "      <td>3.029570</td>\n",
       "      <td>0.000000</td>\n",
       "      <td>0.263158</td>\n",
       "      <td>0.000000</td>\n",
       "    </tr>\n",
       "    <tr>\n",
       "      <th>2</th>\n",
       "      <td>Positive_3</td>\n",
       "      <td>RRRRRRRRRGPGVTWTPQAWFQWV</td>\n",
       "      <td>1</td>\n",
       "      <td>train</td>\n",
       "      <td>0.375000</td>\n",
       "      <td>58.333333</td>\n",
       "      <td>6333.391304</td>\n",
       "      <td>-0.386407</td>\n",
       "      <td>0.805930</td>\n",
       "      <td>-0.386407</td>\n",
       "      <td>8.994831</td>\n",
       "      <td>0.000000</td>\n",
       "      <td>0.166667</td>\n",
       "      <td>1.703606</td>\n",
       "    </tr>\n",
       "    <tr>\n",
       "      <th>3</th>\n",
       "      <td>Positive_4</td>\n",
       "      <td>AEKVDPVKLNLTLSAAAEALTGLGDK</td>\n",
       "      <td>1</td>\n",
       "      <td>train</td>\n",
       "      <td>0.115385</td>\n",
       "      <td>53.846154</td>\n",
       "      <td>11200.000000</td>\n",
       "      <td>-0.402857</td>\n",
       "      <td>0.912634</td>\n",
       "      <td>-0.402857</td>\n",
       "      <td>-1.005546</td>\n",
       "      <td>0.012308</td>\n",
       "      <td>0.153846</td>\n",
       "      <td>2.020491</td>\n",
       "    </tr>\n",
       "    <tr>\n",
       "      <th>4</th>\n",
       "      <td>Positive_5</td>\n",
       "      <td>GLKKLARLFHKLLKLGC</td>\n",
       "      <td>1</td>\n",
       "      <td>train</td>\n",
       "      <td>0.294118</td>\n",
       "      <td>5.882353</td>\n",
       "      <td>10267.875000</td>\n",
       "      <td>2.800695</td>\n",
       "      <td>1.021408</td>\n",
       "      <td>-0.322286</td>\n",
       "      <td>4.887885</td>\n",
       "      <td>0.000000</td>\n",
       "      <td>0.058824</td>\n",
       "      <td>0.000000</td>\n",
       "    </tr>\n",
       "  </tbody>\n",
       "</table>\n",
       "</div>"
      ],
      "text/plain": [
       "           ID                    Sequence  CPP Dataset  CTDC_charge.G1  \\\n",
       "0  Positive_1                GRKGKHKRKKLP    1   train        0.583333   \n",
       "1  Positive_2         KFLNRFWHWLQLKPGQPMY    1   train        0.157895   \n",
       "2  Positive_3    RRRRRRRRRGPGVTWTPQAWFQWV    1   train        0.375000   \n",
       "3  Positive_4  AEKVDPVKLNLTLSAAAEALTGLGDK    1   train        0.115385   \n",
       "4  Positive_5           GLKKLARLFHKLLKLGC    1   train        0.294118   \n",
       "\n",
       "   CTDD_hydrophobicity_ARGP820101.1.residue50  SOCNumber_gGrantham.lag1  \\\n",
       "0                                    8.333333               6637.454545   \n",
       "1                                   57.894737               8580.166667   \n",
       "2                                   58.333333               6333.391304   \n",
       "3                                   53.846154              11200.000000   \n",
       "4                                    5.882353              10267.875000   \n",
       "\n",
       "     DDE_LA  Geary_ANDN920101.lag2    DDE_SP      NetC   ASDC_VG  \\\n",
       "0 -0.267225               1.207187 -0.267225  7.029472  0.000000   \n",
       "1 -0.341835               0.626096 -0.341835  3.029570  0.000000   \n",
       "2 -0.386407               0.805930 -0.386407  8.994831  0.000000   \n",
       "3 -0.402857               0.912634 -0.402857 -1.005546  0.012308   \n",
       "4  2.800695               1.021408 -0.322286  4.887885  0.000000   \n",
       "\n",
       "   CTDC_solventaccess.G3  APAAC_Pc1.V  \n",
       "0               0.166667     0.000000  \n",
       "1               0.263158     0.000000  \n",
       "2               0.166667     1.703606  \n",
       "3               0.153846     2.020491  \n",
       "4               0.058824     0.000000  "
      ]
     },
     "execution_count": 4,
     "metadata": {},
     "output_type": "execute_result"
    }
   ],
   "source": [
    "featurizer = Featurizer(data_folder=os.path.join('..', 'data'))\n",
    "\n",
    "comb_selected = pd.DataFrame(comb.Sequence.apply(lambda x: featurizer.compute_features(x).values[0]).tolist(), index= comb.index, columns=selected_features)\n",
    "comb_selected[key] = comb[key]\n",
    "comb_selected = comb_selected[key+selected_features].copy()\n",
    "comb_selected.head()"
   ]
  },
  {
   "cell_type": "code",
   "execution_count": 5,
   "id": "f926e826-84df-465a-9c07-8f174dece82e",
   "metadata": {
    "tags": []
   },
   "outputs": [
    {
     "data": {
      "text/html": [
       "<div>\n",
       "<style scoped>\n",
       "    .dataframe tbody tr th:only-of-type {\n",
       "        vertical-align: middle;\n",
       "    }\n",
       "\n",
       "    .dataframe tbody tr th {\n",
       "        vertical-align: top;\n",
       "    }\n",
       "\n",
       "    .dataframe thead th {\n",
       "        text-align: right;\n",
       "    }\n",
       "</style>\n",
       "<table border=\"1\" class=\"dataframe\">\n",
       "  <thead>\n",
       "    <tr style=\"text-align: right;\">\n",
       "      <th></th>\n",
       "      <th>ID</th>\n",
       "      <th>Sequence</th>\n",
       "      <th>CPP</th>\n",
       "      <th>Dataset</th>\n",
       "      <th>CTDC_charge.G1</th>\n",
       "      <th>CTDD_hydrophobicity_ARGP820101.1.residue50</th>\n",
       "      <th>SOCNumber_gGrantham.lag1</th>\n",
       "      <th>DDE_LA</th>\n",
       "      <th>Geary_ANDN920101.lag2</th>\n",
       "      <th>DDE_SP</th>\n",
       "      <th>NetC</th>\n",
       "      <th>ASDC_VG</th>\n",
       "      <th>CTDC_solventaccess.G3</th>\n",
       "      <th>APAAC_Pc1.V</th>\n",
       "    </tr>\n",
       "  </thead>\n",
       "  <tbody>\n",
       "    <tr>\n",
       "      <th>0</th>\n",
       "      <td>Positive_1</td>\n",
       "      <td>GRKGKHKRKKLP</td>\n",
       "      <td>1</td>\n",
       "      <td>train</td>\n",
       "      <td>0.583333</td>\n",
       "      <td>8.333333</td>\n",
       "      <td>6637.454545</td>\n",
       "      <td>-0.267225</td>\n",
       "      <td>1.207187</td>\n",
       "      <td>-0.267225</td>\n",
       "      <td>7.029472</td>\n",
       "      <td>0.000000</td>\n",
       "      <td>0.166667</td>\n",
       "      <td>0.000000</td>\n",
       "    </tr>\n",
       "    <tr>\n",
       "      <th>1</th>\n",
       "      <td>Positive_2</td>\n",
       "      <td>KFLNRFWHWLQLKPGQPMY</td>\n",
       "      <td>1</td>\n",
       "      <td>train</td>\n",
       "      <td>0.157895</td>\n",
       "      <td>57.894737</td>\n",
       "      <td>8580.166667</td>\n",
       "      <td>-0.341835</td>\n",
       "      <td>0.626096</td>\n",
       "      <td>-0.341835</td>\n",
       "      <td>3.029570</td>\n",
       "      <td>0.000000</td>\n",
       "      <td>0.263158</td>\n",
       "      <td>0.000000</td>\n",
       "    </tr>\n",
       "    <tr>\n",
       "      <th>2</th>\n",
       "      <td>Positive_3</td>\n",
       "      <td>RRRRRRRRRGPGVTWTPQAWFQWV</td>\n",
       "      <td>1</td>\n",
       "      <td>train</td>\n",
       "      <td>0.375000</td>\n",
       "      <td>58.333333</td>\n",
       "      <td>6333.391304</td>\n",
       "      <td>-0.386407</td>\n",
       "      <td>0.805930</td>\n",
       "      <td>-0.386407</td>\n",
       "      <td>8.994831</td>\n",
       "      <td>0.000000</td>\n",
       "      <td>0.166667</td>\n",
       "      <td>1.703606</td>\n",
       "    </tr>\n",
       "    <tr>\n",
       "      <th>3</th>\n",
       "      <td>Positive_4</td>\n",
       "      <td>AEKVDPVKLNLTLSAAAEALTGLGDK</td>\n",
       "      <td>1</td>\n",
       "      <td>train</td>\n",
       "      <td>0.115385</td>\n",
       "      <td>53.846154</td>\n",
       "      <td>11200.000000</td>\n",
       "      <td>-0.402857</td>\n",
       "      <td>0.912634</td>\n",
       "      <td>-0.402857</td>\n",
       "      <td>-1.005546</td>\n",
       "      <td>0.012308</td>\n",
       "      <td>0.153846</td>\n",
       "      <td>2.020491</td>\n",
       "    </tr>\n",
       "    <tr>\n",
       "      <th>4</th>\n",
       "      <td>Positive_5</td>\n",
       "      <td>GLKKLARLFHKLLKLGC</td>\n",
       "      <td>1</td>\n",
       "      <td>train</td>\n",
       "      <td>0.294118</td>\n",
       "      <td>5.882353</td>\n",
       "      <td>10267.875000</td>\n",
       "      <td>2.800695</td>\n",
       "      <td>1.021408</td>\n",
       "      <td>-0.322286</td>\n",
       "      <td>4.887885</td>\n",
       "      <td>0.000000</td>\n",
       "      <td>0.058824</td>\n",
       "      <td>0.000000</td>\n",
       "    </tr>\n",
       "  </tbody>\n",
       "</table>\n",
       "</div>"
      ],
      "text/plain": [
       "           ID                    Sequence  CPP Dataset  CTDC_charge.G1  \\\n",
       "0  Positive_1                GRKGKHKRKKLP    1   train        0.583333   \n",
       "1  Positive_2         KFLNRFWHWLQLKPGQPMY    1   train        0.157895   \n",
       "2  Positive_3    RRRRRRRRRGPGVTWTPQAWFQWV    1   train        0.375000   \n",
       "3  Positive_4  AEKVDPVKLNLTLSAAAEALTGLGDK    1   train        0.115385   \n",
       "4  Positive_5           GLKKLARLFHKLLKLGC    1   train        0.294118   \n",
       "\n",
       "   CTDD_hydrophobicity_ARGP820101.1.residue50  SOCNumber_gGrantham.lag1  \\\n",
       "0                                    8.333333               6637.454545   \n",
       "1                                   57.894737               8580.166667   \n",
       "2                                   58.333333               6333.391304   \n",
       "3                                   53.846154              11200.000000   \n",
       "4                                    5.882353              10267.875000   \n",
       "\n",
       "     DDE_LA  Geary_ANDN920101.lag2    DDE_SP      NetC   ASDC_VG  \\\n",
       "0 -0.267225               1.207187 -0.267225  7.029472  0.000000   \n",
       "1 -0.341835               0.626096 -0.341835  3.029570  0.000000   \n",
       "2 -0.386407               0.805930 -0.386407  8.994831  0.000000   \n",
       "3 -0.402857               0.912634 -0.402857 -1.005546  0.012308   \n",
       "4  2.800695               1.021408 -0.322286  4.887885  0.000000   \n",
       "\n",
       "   CTDC_solventaccess.G3  APAAC_Pc1.V  \n",
       "0               0.166667     0.000000  \n",
       "1               0.263158     0.000000  \n",
       "2               0.166667     1.703606  \n",
       "3               0.153846     2.020491  \n",
       "4               0.058824     0.000000  "
      ]
     },
     "execution_count": 5,
     "metadata": {},
     "output_type": "execute_result"
    }
   ],
   "source": [
    "comb[key+selected_features].head()"
   ]
  },
  {
   "cell_type": "code",
   "execution_count": 6,
   "id": "51026006-6adf-47ee-a386-e4aa4c8bb516",
   "metadata": {
    "tags": []
   },
   "outputs": [
    {
     "name": "stdout",
     "output_type": "stream",
     "text": [
      "True\n"
     ]
    }
   ],
   "source": [
    "print(comb[key+selected_features].equals(comb_selected))"
   ]
  },
  {
   "cell_type": "code",
   "execution_count": 7,
   "id": "ba3ef18b-e600-4dd1-9ae0-b4bf7457d798",
   "metadata": {
    "tags": []
   },
   "outputs": [],
   "source": [
    "train_selected = comb_selected[comb_selected.Dataset=='train'].copy()\n",
    "test_selected  = comb_selected[comb_selected.Dataset=='test'].copy()"
   ]
  },
  {
   "cell_type": "code",
   "execution_count": 8,
   "id": "956e034b-6d9d-49d9-9abe-02c8c444eda0",
   "metadata": {
    "tags": []
   },
   "outputs": [
    {
     "name": "stdout",
     "output_type": "stream",
     "text": [
      "Training until validation scores don't improve for 20 rounds\n",
      "[100]\tcv_agg's train auc: 0.918468 + 0.00288423\tcv_agg's valid auc: 0.903734 + 0.0230787\n",
      "[200]\tcv_agg's train auc: 0.927793 + 0.00260694\tcv_agg's valid auc: 0.910334 + 0.0224967\n",
      "[300]\tcv_agg's train auc: 0.93379 + 0.00272265\tcv_agg's valid auc: 0.913786 + 0.0219653\n",
      "[400]\tcv_agg's train auc: 0.937791 + 0.00265479\tcv_agg's valid auc: 0.916347 + 0.0217603\n",
      "[500]\tcv_agg's train auc: 0.940591 + 0.00258033\tcv_agg's valid auc: 0.918114 + 0.022279\n",
      "[600]\tcv_agg's train auc: 0.942788 + 0.00245492\tcv_agg's valid auc: 0.919151 + 0.0214421\n",
      "[100]\ttraining's auc: 0.917791\tvalid_1's auc: 0.912864\n",
      "[200]\ttraining's auc: 0.926656\tvalid_1's auc: 0.915841\n",
      "[300]\ttraining's auc: 0.932587\tvalid_1's auc: 0.916444\n",
      "[400]\ttraining's auc: 0.936803\tvalid_1's auc: 0.916963\n",
      "[500]\ttraining's auc: 0.939771\tvalid_1's auc: 0.917334\n"
     ]
    },
    {
     "data": {
      "text/html": [
       "<div>\n",
       "<style scoped>\n",
       "    .dataframe tbody tr th:only-of-type {\n",
       "        vertical-align: middle;\n",
       "    }\n",
       "\n",
       "    .dataframe tbody tr th {\n",
       "        vertical-align: top;\n",
       "    }\n",
       "\n",
       "    .dataframe thead th {\n",
       "        text-align: right;\n",
       "    }\n",
       "</style>\n",
       "<table border=\"1\" class=\"dataframe\">\n",
       "  <thead>\n",
       "    <tr style=\"text-align: right;\">\n",
       "      <th></th>\n",
       "      <th>AUROC</th>\n",
       "      <th>MCC</th>\n",
       "      <th>F1</th>\n",
       "      <th>Fb05</th>\n",
       "      <th>Fb01</th>\n",
       "      <th>ACC</th>\n",
       "      <th>SN</th>\n",
       "      <th>SP</th>\n",
       "    </tr>\n",
       "    <tr>\n",
       "      <th>fold</th>\n",
       "      <th></th>\n",
       "      <th></th>\n",
       "      <th></th>\n",
       "      <th></th>\n",
       "      <th></th>\n",
       "      <th></th>\n",
       "      <th></th>\n",
       "      <th></th>\n",
       "    </tr>\n",
       "  </thead>\n",
       "  <tbody>\n",
       "    <tr>\n",
       "      <th>OOF</th>\n",
       "      <td>0.919335</td>\n",
       "      <td>0.661596</td>\n",
       "      <td>0.769125</td>\n",
       "      <td>0.881261</td>\n",
       "      <td>0.971489</td>\n",
       "      <td>0.809802</td>\n",
       "      <td>0.635178</td>\n",
       "      <td>0.984332</td>\n",
       "    </tr>\n",
       "    <tr>\n",
       "      <th>Test_ensemble</th>\n",
       "      <td>0.918296</td>\n",
       "      <td>0.625630</td>\n",
       "      <td>0.649007</td>\n",
       "      <td>0.667575</td>\n",
       "      <td>0.679901</td>\n",
       "      <td>0.954720</td>\n",
       "      <td>0.620253</td>\n",
       "      <td>0.978928</td>\n",
       "    </tr>\n",
       "    <tr>\n",
       "      <th>Test_refit</th>\n",
       "      <td>0.916021</td>\n",
       "      <td>0.622788</td>\n",
       "      <td>0.647059</td>\n",
       "      <td>0.660000</td>\n",
       "      <td>0.668472</td>\n",
       "      <td>0.953866</td>\n",
       "      <td>0.626582</td>\n",
       "      <td>0.977554</td>\n",
       "    </tr>\n",
       "  </tbody>\n",
       "</table>\n",
       "</div>"
      ],
      "text/plain": [
       "                  AUROC       MCC        F1      Fb05      Fb01       ACC  \\\n",
       "fold                                                                        \n",
       "OOF            0.919335  0.661596  0.769125  0.881261  0.971489  0.809802   \n",
       "Test_ensemble  0.918296  0.625630  0.649007  0.667575  0.679901  0.954720   \n",
       "Test_refit     0.916021  0.622788  0.647059  0.660000  0.668472  0.953866   \n",
       "\n",
       "                     SN        SP  \n",
       "fold                               \n",
       "OOF            0.635178  0.984332  \n",
       "Test_ensemble  0.620253  0.978928  \n",
       "Test_refit     0.626582  0.977554  "
      ]
     },
     "metadata": {},
     "output_type": "display_data"
    },
    {
     "data": {
      "image/png": "[encoded data removed]",
      "text/plain": [
       "<Figure size 1000x500 with 2 Axes>"
      ]
     },
     "metadata": {},
     "output_type": "display_data"
    }
   ],
   "source": [
    "oof_results, test_results = cross_validate(train=train_selected,\n",
    "                                           test=test_selected,\n",
    "                                           features=selected_features,\n",
    "                                           target=TARGET,\n",
    "                                           num_folds=NUM_FOLDS,\n",
    "                                           num_repeats=NUM_REPEATS,\n",
    "                                           seed=SEED,\n",
    "                                           params={**PARAMS_GB, **{'scale_pos_weight': 0.1, 'num_leaves': 2}},\n",
    "                                           threshold=0.5,\n",
    "                                           feval=None,\n",
    "                                           refit=True,\n",
    "                                           compute_oof_importance=True,\n",
    "                                           compute_test_importance=True)\n",
    "print_results(oof_results, test_results)\n",
    "plot_importance(oof_results, test_results, selected_features, max_features=20)"
   ]
  },
  {
   "cell_type": "code",
   "execution_count": 9,
   "id": "e8e5adf1-b339-4236-8203-680bcdaf0ed7",
   "metadata": {
    "tags": []
   },
   "outputs": [],
   "source": [
    "## Save models\n",
    "d = {'models_ensemble': oof_results['models'], 'models_refit': test_results['models'],\n",
    "     'best_iteration': oof_results['best_iteration']}\n",
    "with open(os.path.join('..', 'models', 'efficient_model.pickle'), 'wb') as handle:\n",
    "    pickle.dump(d, handle, protocol=pickle.HIGHEST_PROTOCOL)"
   ]
  },
  {
   "cell_type": "code",
   "execution_count": 10,
   "id": "322aa863-fa5b-413d-8fb8-42095c6957ea",
   "metadata": {
    "tags": []
   },
   "outputs": [],
   "source": [
    "## Load saved models\n",
    "with open(os.path.join('..', 'models', 'efficient_model.pickle'), 'rb') as handle:\n",
    "    models = pickle.load(handle)"
   ]
  },
  {
   "cell_type": "code",
   "execution_count": 14,
   "id": "799060bc-89b6-4d1f-90e3-92f39f17c913",
   "metadata": {
    "tags": []
   },
   "outputs": [
    {
     "ename": "TypeError",
     "evalue": "'CVBooster' object is not subscriptable",
     "output_type": "error",
     "traceback": [
      "\u001b[0;31m---------------------------------------------------------------------------\u001b[0m",
      "\u001b[0;31mTypeError\u001b[0m                                 Traceback (most recent call last)",
      "Cell \u001b[0;32mIn[14], line 1\u001b[0m\n\u001b[0;32m----> 1\u001b[0m oof_results, test_results \u001b[38;5;241m=\u001b[39m \u001b[43mevaluate\u001b[49m\u001b[43m(\u001b[49m\u001b[43mtrain\u001b[49m\u001b[38;5;241;43m=\u001b[39;49m\u001b[43mtrain_selected\u001b[49m\u001b[43m,\u001b[49m\n\u001b[1;32m      2\u001b[0m \u001b[43m                                     \u001b[49m\u001b[43mtest\u001b[49m\u001b[38;5;241;43m=\u001b[39;49m\u001b[43mtest_selected\u001b[49m\u001b[43m,\u001b[49m\n\u001b[1;32m      3\u001b[0m \u001b[43m                                     \u001b[49m\u001b[43moof_results\u001b[49m\u001b[38;5;241;43m=\u001b[39;49m\u001b[43mmodels\u001b[49m\u001b[43m[\u001b[49m\u001b[38;5;124;43m'\u001b[39;49m\u001b[38;5;124;43mmodels_ensemble\u001b[39;49m\u001b[38;5;124;43m'\u001b[39;49m\u001b[43m]\u001b[49m\u001b[43m,\u001b[49m\n\u001b[1;32m      4\u001b[0m \u001b[43m                                     \u001b[49m\u001b[43mtest_results\u001b[49m\u001b[38;5;241;43m=\u001b[39;49m\u001b[43mmodels\u001b[49m\u001b[43m[\u001b[49m\u001b[38;5;124;43m'\u001b[39;49m\u001b[38;5;124;43mmodels_refit\u001b[39;49m\u001b[38;5;124;43m'\u001b[39;49m\u001b[43m]\u001b[49m\u001b[43m,\u001b[49m\n\u001b[1;32m      5\u001b[0m \u001b[43m                                     \u001b[49m\u001b[43mfeatures\u001b[49m\u001b[38;5;241;43m=\u001b[39;49m\u001b[43mselected_features\u001b[49m\u001b[43m,\u001b[49m\n\u001b[1;32m      6\u001b[0m \u001b[43m                                     \u001b[49m\u001b[43mtarget\u001b[49m\u001b[38;5;241;43m=\u001b[39;49m\u001b[43mTARGET\u001b[49m\u001b[43m,\u001b[49m\n\u001b[1;32m      7\u001b[0m \u001b[43m                                     \u001b[49m\u001b[43mnum_folds\u001b[49m\u001b[38;5;241;43m=\u001b[39;49m\u001b[43mNUM_FOLDS\u001b[49m\u001b[43m,\u001b[49m\n\u001b[1;32m      8\u001b[0m \u001b[43m                                     \u001b[49m\u001b[43mnum_repeats\u001b[49m\u001b[38;5;241;43m=\u001b[39;49m\u001b[43mNUM_REPEATS\u001b[49m\u001b[43m,\u001b[49m\n\u001b[1;32m      9\u001b[0m \u001b[43m                                     \u001b[49m\u001b[43mseed\u001b[49m\u001b[38;5;241;43m=\u001b[39;49m\u001b[43mSEED\u001b[49m\u001b[43m,\u001b[49m\n\u001b[1;32m     10\u001b[0m \u001b[43m                                     \u001b[49m\u001b[43mcompute_oof_importance\u001b[49m\u001b[38;5;241;43m=\u001b[39;49m\u001b[38;5;28;43;01mTrue\u001b[39;49;00m\u001b[43m,\u001b[49m\n\u001b[1;32m     11\u001b[0m \u001b[43m                                     \u001b[49m\u001b[43mcompute_test_importance\u001b[49m\u001b[38;5;241;43m=\u001b[39;49m\u001b[38;5;28;43;01mTrue\u001b[39;49;00m\u001b[43m)\u001b[49m\n\u001b[1;32m     12\u001b[0m print_results(oof_results, test_results)\n\u001b[1;32m     13\u001b[0m plot_importance(oof_results, test_results, selected_features, max_features\u001b[38;5;241m=\u001b[39m\u001b[38;5;241m20\u001b[39m)\n",
      "File \u001b[0;32m/work/CPPdesign/notebooks/../src/utils_training.py:133\u001b[0m, in \u001b[0;36mevaluate\u001b[0;34m(train, test, oof_results, test_results, features, target, num_folds, num_repeats, seed, threshold, compute_oof_importance, compute_test_importance)\u001b[0m\n\u001b[1;32m    131\u001b[0m train \u001b[38;5;241m=\u001b[39m train\u001b[38;5;241m.\u001b[39mcopy()\n\u001b[1;32m    132\u001b[0m test \u001b[38;5;241m=\u001b[39m test\u001b[38;5;241m.\u001b[39mcopy()\n\u001b[0;32m--> 133\u001b[0m oof_models \u001b[38;5;241m=\u001b[39m \u001b[43moof_results\u001b[49m\u001b[43m[\u001b[49m\u001b[38;5;124;43m'\u001b[39;49m\u001b[38;5;124;43mmodels\u001b[39;49m\u001b[38;5;124;43m'\u001b[39;49m\u001b[43m]\u001b[49m\n\u001b[1;32m    134\u001b[0m oof_best_iteration \u001b[38;5;241m=\u001b[39m oof_results[\u001b[38;5;124m'\u001b[39m\u001b[38;5;124mbest_iteration\u001b[39m\u001b[38;5;124m'\u001b[39m]\n\u001b[1;32m    135\u001b[0m \u001b[38;5;28;01mif\u001b[39;00m test_results \u001b[38;5;129;01mis\u001b[39;00m \u001b[38;5;129;01mnot\u001b[39;00m \u001b[38;5;28;01mNone\u001b[39;00m:\n",
      "\u001b[0;31mTypeError\u001b[0m: 'CVBooster' object is not subscriptable"
     ]
    }
   ],
   "source": [
    "oof_results, test_results = evaluate(train=train_selected,\n",
    "                                     test=test_selected,\n",
    "                                     oof_results=models['models_ensemble'],\n",
    "                                     test_results=models['models_refit'],\n",
    "                                     features=selected_features,\n",
    "                                     target=TARGET,\n",
    "                                     num_folds=NUM_FOLDS,\n",
    "                                     num_repeats=NUM_REPEATS,\n",
    "                                     seed=SEED,\n",
    "                                     compute_oof_importance=True,\n",
    "                                     compute_test_importance=True)\n",
    "print_results(oof_results, test_results)\n",
    "plot_importance(oof_results, test_results, selected_features, max_features=20)"
   ]
  },
  {
   "cell_type": "code",
   "execution_count": 13,
   "id": "39c5831d-0daa-4d47-a958-4dac4c3be338",
   "metadata": {
    "tags": []
   },
   "outputs": [
    {
     "data": {
      "text/plain": [
       "<lightgbm.engine.CVBooster at 0x7f37857fc1c0>"
      ]
     },
     "execution_count": 13,
     "metadata": {},
     "output_type": "execute_result"
    }
   ],
   "source": [
    "oof_results['models']"
   ]
  },
  {
   "cell_type": "markdown",
   "id": "b06db9a1-2e47-4b8e-b0d2-6f41dacab1c8",
   "metadata": {},
   "source": [
    "## Test models"
   ]
  },
  {
   "cell_type": "code",
   "execution_count": 17,
   "id": "d85ec201-3dd7-4e8d-9101-7921f2a3fbf1",
   "metadata": {
    "tags": []
   },
   "outputs": [],
   "source": [
    "test_sequences = ['KQRNRWEWRPDFKSKKVKISLPC',\n",
    "                  'KKKKKKKKLLLLLLLL',\n",
    "                  'LKLKLKLKLKLKLKLK',\n",
    "                  'GAGKKKAKPAARPNV',\n",
    "                  'QRNFKA',\n",
    "                  'RNSYRKSPSRRNR',\n",
    "                  'GWVIVVGVIGVI',\n",
    "                  'AGLVLAALLVT']\n",
    "\n",
    "featurizer = Featurizer(data_folder=os.path.join('..', 'data'))\n",
    "best_iteration = models['best_iteration']\n",
    "\n",
    "preds_dict = {}\n",
    "n_models = len(models['models'].boosters)\n",
    "\n",
    "for sequence in test_sequences:\n",
    "    features_df = featurizer.compute_features(sequence)\n",
    "    preds = 0.0\n",
    "    for model in models['models'].boosters:\n",
    "        preds += model.predict(features_df[selected_features], num_iteration=best_iteration) / n_models\n",
    "    preds_dict[sequence] = preds"
   ]
  },
  {
   "cell_type": "code",
   "execution_count": 18,
   "id": "2d7b428d-89ec-48ff-84fb-d5d0dd009398",
   "metadata": {
    "tags": []
   },
   "outputs": [
    {
     "data": {
      "text/plain": [
       "{'KQRNRWEWRPDFKSKKVKISLPC': array([0.48625468]),\n",
       " 'KKKKKKKKLLLLLLLL': array([0.99983108]),\n",
       " 'LKLKLKLKLKLKLKLK': array([0.99406937]),\n",
       " 'GAGKKKAKPAARPNV': array([0.7007129]),\n",
       " 'QRNFKA': array([0.28826399]),\n",
       " 'RNSYRKSPSRRNR': array([0.93518519]),\n",
       " 'GWVIVVGVIGVI': array([0.2432096]),\n",
       " 'AGLVLAALLVT': array([0.5877668])}"
      ]
     },
     "execution_count": 18,
     "metadata": {},
     "output_type": "execute_result"
    }
   ],
   "source": [
    "preds_dict"
   ]
  },
  {
   "cell_type": "code",
   "execution_count": null,
   "id": "2a81131d-0c28-4725-a5fb-76133f17f970",
   "metadata": {},
   "outputs": [],
   "source": []
  }
 ],
 "metadata": {
  "kernelspec": {
   "display_name": "Python 3 (ipykernel)",
   "language": "python",
   "name": "python3"
  },
  "language_info": {
   "codemirror_mode": {
    "name": "ipython",
    "version": 3
   },
   "file_extension": ".py",
   "mimetype": "text/x-python",
   "name": "python",
   "nbconvert_exporter": "python",
   "pygments_lexer": "ipython3",
   "version": "3.10.12"
  }
 },
 "nbformat": 4,
 "nbformat_minor": 5
}
